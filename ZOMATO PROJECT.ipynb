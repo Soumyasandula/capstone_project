{
 "cells": [
  {
   "cell_type": "code",
   "execution_count": 2,
   "id": "b6d44f3e",
   "metadata": {},
   "outputs": [],
   "source": [
    "import pandas as pd\n",
    "import numpy as np"
   ]
  },
  {
   "cell_type": "code",
   "execution_count": 3,
   "id": "bfe8c134",
   "metadata": {},
   "outputs": [
    {
     "data": {
      "text/html": [
       "<div>\n",
       "<style scoped>\n",
       "    .dataframe tbody tr th:only-of-type {\n",
       "        vertical-align: middle;\n",
       "    }\n",
       "\n",
       "    .dataframe tbody tr th {\n",
       "        vertical-align: top;\n",
       "    }\n",
       "\n",
       "    .dataframe thead th {\n",
       "        text-align: right;\n",
       "    }\n",
       "</style>\n",
       "<table border=\"1\" class=\"dataframe\">\n",
       "  <thead>\n",
       "    <tr style=\"text-align: right;\">\n",
       "      <th></th>\n",
       "      <th>address</th>\n",
       "      <th>name</th>\n",
       "      <th>online_order</th>\n",
       "      <th>book_table</th>\n",
       "      <th>rate</th>\n",
       "      <th>votes</th>\n",
       "      <th>location</th>\n",
       "      <th>rest_type</th>\n",
       "      <th>dish_liked</th>\n",
       "      <th>cuisines</th>\n",
       "      <th>approx_cost(for two people)</th>\n",
       "      <th>menu_item</th>\n",
       "      <th>listed_in(type)</th>\n",
       "      <th>listed_in(city)</th>\n",
       "    </tr>\n",
       "  </thead>\n",
       "  <tbody>\n",
       "    <tr>\n",
       "      <th>0</th>\n",
       "      <td>942, 21st Main Road, 2nd Stage, Banashankari, ...</td>\n",
       "      <td>Jalsa</td>\n",
       "      <td>Yes</td>\n",
       "      <td>Yes</td>\n",
       "      <td>4.1/5</td>\n",
       "      <td>775</td>\n",
       "      <td>Banashankari</td>\n",
       "      <td>Casual Dining</td>\n",
       "      <td>Pasta, Lunch Buffet, Masala Papad, Paneer Laja...</td>\n",
       "      <td>North Indian, Mughlai, Chinese</td>\n",
       "      <td>800</td>\n",
       "      <td>[]</td>\n",
       "      <td>Buffet</td>\n",
       "      <td>Banashankari</td>\n",
       "    </tr>\n",
       "    <tr>\n",
       "      <th>1</th>\n",
       "      <td>2nd Floor, 80 Feet Road, Near Big Bazaar, 6th ...</td>\n",
       "      <td>Spice Elephant</td>\n",
       "      <td>Yes</td>\n",
       "      <td>No</td>\n",
       "      <td>4.1/5</td>\n",
       "      <td>787</td>\n",
       "      <td>Banashankari</td>\n",
       "      <td>Casual Dining</td>\n",
       "      <td>Momos, Lunch Buffet, Chocolate Nirvana, Thai G...</td>\n",
       "      <td>Chinese, North Indian, Thai</td>\n",
       "      <td>800</td>\n",
       "      <td>[]</td>\n",
       "      <td>Buffet</td>\n",
       "      <td>Banashankari</td>\n",
       "    </tr>\n",
       "    <tr>\n",
       "      <th>2</th>\n",
       "      <td>1112, Next to KIMS Medical College, 17th Cross...</td>\n",
       "      <td>San Churro Cafe</td>\n",
       "      <td>Yes</td>\n",
       "      <td>No</td>\n",
       "      <td>3.8/5</td>\n",
       "      <td>918</td>\n",
       "      <td>Banashankari</td>\n",
       "      <td>Cafe, Casual Dining</td>\n",
       "      <td>Churros, Cannelloni, Minestrone Soup, Hot Choc...</td>\n",
       "      <td>Cafe, Mexican, Italian</td>\n",
       "      <td>800</td>\n",
       "      <td>[]</td>\n",
       "      <td>Buffet</td>\n",
       "      <td>Banashankari</td>\n",
       "    </tr>\n",
       "    <tr>\n",
       "      <th>3</th>\n",
       "      <td>1st Floor, Annakuteera, 3rd Stage, Banashankar...</td>\n",
       "      <td>Addhuri Udupi Bhojana</td>\n",
       "      <td>No</td>\n",
       "      <td>No</td>\n",
       "      <td>3.7/5</td>\n",
       "      <td>88</td>\n",
       "      <td>Banashankari</td>\n",
       "      <td>Quick Bites</td>\n",
       "      <td>Masala Dosa</td>\n",
       "      <td>South Indian, North Indian</td>\n",
       "      <td>300</td>\n",
       "      <td>[]</td>\n",
       "      <td>Buffet</td>\n",
       "      <td>Banashankari</td>\n",
       "    </tr>\n",
       "    <tr>\n",
       "      <th>4</th>\n",
       "      <td>10, 3rd Floor, Lakshmi Associates, Gandhi Baza...</td>\n",
       "      <td>Grand Village</td>\n",
       "      <td>No</td>\n",
       "      <td>No</td>\n",
       "      <td>3.8/5</td>\n",
       "      <td>166</td>\n",
       "      <td>Basavanagudi</td>\n",
       "      <td>Casual Dining</td>\n",
       "      <td>Panipuri, Gol Gappe</td>\n",
       "      <td>North Indian, Rajasthani</td>\n",
       "      <td>600</td>\n",
       "      <td>[]</td>\n",
       "      <td>Buffet</td>\n",
       "      <td>Banashankari</td>\n",
       "    </tr>\n",
       "    <tr>\n",
       "      <th>...</th>\n",
       "      <td>...</td>\n",
       "      <td>...</td>\n",
       "      <td>...</td>\n",
       "      <td>...</td>\n",
       "      <td>...</td>\n",
       "      <td>...</td>\n",
       "      <td>...</td>\n",
       "      <td>...</td>\n",
       "      <td>...</td>\n",
       "      <td>...</td>\n",
       "      <td>...</td>\n",
       "      <td>...</td>\n",
       "      <td>...</td>\n",
       "      <td>...</td>\n",
       "    </tr>\n",
       "    <tr>\n",
       "      <th>9760</th>\n",
       "      <td>1131/1, 17th Cross, 7th Sector HSR, Bangalore</td>\n",
       "      <td>Davanagere Benne Dose</td>\n",
       "      <td>Yes</td>\n",
       "      <td>No</td>\n",
       "      <td>3.9/5</td>\n",
       "      <td>106</td>\n",
       "      <td>HSR</td>\n",
       "      <td>Quick Bites</td>\n",
       "      <td>Benne Dosa</td>\n",
       "      <td>South Indian</td>\n",
       "      <td>150</td>\n",
       "      <td>['Set Dosa', 'Butter Dosa', 'Butter Masala Dos...</td>\n",
       "      <td>Dine-out</td>\n",
       "      <td>HSR</td>\n",
       "    </tr>\n",
       "    <tr>\n",
       "      <th>9761</th>\n",
       "      <td>445, Shop 1, 5th Main Road, Sector 6, HSR, Ban...</td>\n",
       "      <td>Make It Roll</td>\n",
       "      <td>Yes</td>\n",
       "      <td>No</td>\n",
       "      <td>3.8/5</td>\n",
       "      <td>33</td>\n",
       "      <td>HSR</td>\n",
       "      <td>Quick Bites</td>\n",
       "      <td>NaN</td>\n",
       "      <td>Rolls, Salad, Sandwich</td>\n",
       "      <td>400</td>\n",
       "      <td>[]</td>\n",
       "      <td>Dine-out</td>\n",
       "      <td>HSR</td>\n",
       "    </tr>\n",
       "    <tr>\n",
       "      <th>9762</th>\n",
       "      <td>2623, Next To Axis Bank, 27th Main Road, Secto...</td>\n",
       "      <td>Shubh Sweets</td>\n",
       "      <td>No</td>\n",
       "      <td>No</td>\n",
       "      <td>3.9/5</td>\n",
       "      <td>331</td>\n",
       "      <td>HSR</td>\n",
       "      <td>Quick Bites, Sweet Shop</td>\n",
       "      <td>Panipuri, Jalebi Rabri, Momos, Papdi Chaat, Dh...</td>\n",
       "      <td>Street Food, Mithai, Momos</td>\n",
       "      <td>400</td>\n",
       "      <td>[]</td>\n",
       "      <td>Dine-out</td>\n",
       "      <td>HSR</td>\n",
       "    </tr>\n",
       "    <tr>\n",
       "      <th>9763</th>\n",
       "      <td>L139, 15th Cross, 5th Main, Sector 6, HSR Layo...</td>\n",
       "      <td>Biryani Palace</td>\n",
       "      <td>Yes</td>\n",
       "      <td>No</td>\n",
       "      <td>3.9/5</td>\n",
       "      <td>460</td>\n",
       "      <td>HSR</td>\n",
       "      <td>Quick Bites</td>\n",
       "      <td>Tandoori Chicken, Chicken Boneless Biryani, Hy...</td>\n",
       "      <td>Biryani, Hyderabadi, Chinese</td>\n",
       "      <td>600</td>\n",
       "      <td>[]</td>\n",
       "      <td>Dine-out</td>\n",
       "      <td>HSR</td>\n",
       "    </tr>\n",
       "    <tr>\n",
       "      <th>9764</th>\n",
       "      <td>1st Floor, BKL Building, Hosur Main Road, HSR,...</td>\n",
       "      <td>Tharavadu</td>\n",
       "      <td>Yes</td>\n",
       "      <td>No</td>\n",
       "      <td>3.8/5</td>\n",
       "      <td>83</td>\n",
       "      <td>HSR</td>\n",
       "      <td>Quick Bites</td>\n",
       "      <td>Biryani, Fish Curry</td>\n",
       "      <td>Chinese, North Indian, Kerala</td>\n",
       "      <td>400</td>\n",
       "      <td>[]</td>\n",
       "      <td>Dine-out</td>\n",
       "      <td>HSR</td>\n",
       "    </tr>\n",
       "  </tbody>\n",
       "</table>\n",
       "<p>9765 rows × 14 columns</p>\n",
       "</div>"
      ],
      "text/plain": [
       "                                                address  \\\n",
       "0     942, 21st Main Road, 2nd Stage, Banashankari, ...   \n",
       "1     2nd Floor, 80 Feet Road, Near Big Bazaar, 6th ...   \n",
       "2     1112, Next to KIMS Medical College, 17th Cross...   \n",
       "3     1st Floor, Annakuteera, 3rd Stage, Banashankar...   \n",
       "4     10, 3rd Floor, Lakshmi Associates, Gandhi Baza...   \n",
       "...                                                 ...   \n",
       "9760      1131/1, 17th Cross, 7th Sector HSR, Bangalore   \n",
       "9761  445, Shop 1, 5th Main Road, Sector 6, HSR, Ban...   \n",
       "9762  2623, Next To Axis Bank, 27th Main Road, Secto...   \n",
       "9763  L139, 15th Cross, 5th Main, Sector 6, HSR Layo...   \n",
       "9764  1st Floor, BKL Building, Hosur Main Road, HSR,...   \n",
       "\n",
       "                       name online_order book_table   rate  votes  \\\n",
       "0                     Jalsa          Yes        Yes  4.1/5    775   \n",
       "1            Spice Elephant          Yes         No  4.1/5    787   \n",
       "2           San Churro Cafe          Yes         No  3.8/5    918   \n",
       "3     Addhuri Udupi Bhojana           No         No  3.7/5     88   \n",
       "4             Grand Village           No         No  3.8/5    166   \n",
       "...                     ...          ...        ...    ...    ...   \n",
       "9760  Davanagere Benne Dose          Yes         No  3.9/5    106   \n",
       "9761           Make It Roll          Yes         No  3.8/5     33   \n",
       "9762           Shubh Sweets           No         No  3.9/5    331   \n",
       "9763         Biryani Palace          Yes         No  3.9/5    460   \n",
       "9764              Tharavadu          Yes         No  3.8/5     83   \n",
       "\n",
       "          location                rest_type  \\\n",
       "0     Banashankari            Casual Dining   \n",
       "1     Banashankari            Casual Dining   \n",
       "2     Banashankari      Cafe, Casual Dining   \n",
       "3     Banashankari              Quick Bites   \n",
       "4     Basavanagudi            Casual Dining   \n",
       "...            ...                      ...   \n",
       "9760           HSR              Quick Bites   \n",
       "9761           HSR              Quick Bites   \n",
       "9762           HSR  Quick Bites, Sweet Shop   \n",
       "9763           HSR              Quick Bites   \n",
       "9764           HSR              Quick Bites   \n",
       "\n",
       "                                             dish_liked  \\\n",
       "0     Pasta, Lunch Buffet, Masala Papad, Paneer Laja...   \n",
       "1     Momos, Lunch Buffet, Chocolate Nirvana, Thai G...   \n",
       "2     Churros, Cannelloni, Minestrone Soup, Hot Choc...   \n",
       "3                                           Masala Dosa   \n",
       "4                                   Panipuri, Gol Gappe   \n",
       "...                                                 ...   \n",
       "9760                                         Benne Dosa   \n",
       "9761                                                NaN   \n",
       "9762  Panipuri, Jalebi Rabri, Momos, Papdi Chaat, Dh...   \n",
       "9763  Tandoori Chicken, Chicken Boneless Biryani, Hy...   \n",
       "9764                                Biryani, Fish Curry   \n",
       "\n",
       "                            cuisines approx_cost(for two people)  \\\n",
       "0     North Indian, Mughlai, Chinese                         800   \n",
       "1        Chinese, North Indian, Thai                         800   \n",
       "2             Cafe, Mexican, Italian                         800   \n",
       "3         South Indian, North Indian                         300   \n",
       "4           North Indian, Rajasthani                         600   \n",
       "...                              ...                         ...   \n",
       "9760                    South Indian                         150   \n",
       "9761          Rolls, Salad, Sandwich                         400   \n",
       "9762      Street Food, Mithai, Momos                         400   \n",
       "9763    Biryani, Hyderabadi, Chinese                         600   \n",
       "9764   Chinese, North Indian, Kerala                         400   \n",
       "\n",
       "                                              menu_item listed_in(type)  \\\n",
       "0                                                    []          Buffet   \n",
       "1                                                    []          Buffet   \n",
       "2                                                    []          Buffet   \n",
       "3                                                    []          Buffet   \n",
       "4                                                    []          Buffet   \n",
       "...                                                 ...             ...   \n",
       "9760  ['Set Dosa', 'Butter Dosa', 'Butter Masala Dos...        Dine-out   \n",
       "9761                                                 []        Dine-out   \n",
       "9762                                                 []        Dine-out   \n",
       "9763                                                 []        Dine-out   \n",
       "9764                                                 []        Dine-out   \n",
       "\n",
       "     listed_in(city)  \n",
       "0       Banashankari  \n",
       "1       Banashankari  \n",
       "2       Banashankari  \n",
       "3       Banashankari  \n",
       "4       Banashankari  \n",
       "...              ...  \n",
       "9760             HSR  \n",
       "9761             HSR  \n",
       "9762             HSR  \n",
       "9763             HSR  \n",
       "9764             HSR  \n",
       "\n",
       "[9765 rows x 14 columns]"
      ]
     },
     "execution_count": 3,
     "metadata": {},
     "output_type": "execute_result"
    }
   ],
   "source": [
    "df=pd.read_csv(\"C:/Users/soumy/OneDrive/Documents/zomato16.csv\",encoding='ISO-8859-1')\n",
    "df"
   ]
  },
  {
   "cell_type": "code",
   "execution_count": 4,
   "id": "2cd7edbc",
   "metadata": {},
   "outputs": [
    {
     "data": {
      "text/plain": [
       "(9765, 14)"
      ]
     },
     "execution_count": 4,
     "metadata": {},
     "output_type": "execute_result"
    }
   ],
   "source": [
    "df.shape"
   ]
  },
  {
   "cell_type": "code",
   "execution_count": 5,
   "id": "bca08b9d",
   "metadata": {},
   "outputs": [
    {
     "data": {
      "text/plain": [
       "Index(['address', 'name', 'online_order', 'book_table', 'rate', 'votes',\n",
       "       'location', 'rest_type', 'dish_liked', 'cuisines',\n",
       "       'approx_cost(for two people)', 'menu_item', 'listed_in(type)',\n",
       "       'listed_in(city)'],\n",
       "      dtype='object')"
      ]
     },
     "execution_count": 5,
     "metadata": {},
     "output_type": "execute_result"
    }
   ],
   "source": [
    "df.columns"
   ]
  },
  {
   "cell_type": "code",
   "execution_count": 6,
   "id": "95ae05f2",
   "metadata": {},
   "outputs": [],
   "source": [
    "df.drop(['dish_liked', 'menu_item','listed_in(city)'],axis=1,inplace=True)"
   ]
  },
  {
   "cell_type": "code",
   "execution_count": 7,
   "id": "460cb707",
   "metadata": {},
   "outputs": [
    {
     "data": {
      "text/plain": [
       "(9765, 11)"
      ]
     },
     "execution_count": 7,
     "metadata": {},
     "output_type": "execute_result"
    }
   ],
   "source": [
    "df.shape"
   ]
  },
  {
   "cell_type": "code",
   "execution_count": 8,
   "id": "2189227e",
   "metadata": {},
   "outputs": [
    {
     "data": {
      "text/plain": [
       "Index(['address', 'name', 'online_order', 'book_table', 'rate', 'votes',\n",
       "       'location', 'rest_type', 'cuisines', 'approx_cost(for two people)',\n",
       "       'listed_in(type)'],\n",
       "      dtype='object')"
      ]
     },
     "execution_count": 8,
     "metadata": {},
     "output_type": "execute_result"
    }
   ],
   "source": [
    "df.columns"
   ]
  },
  {
   "cell_type": "code",
   "execution_count": 9,
   "id": "1837456b",
   "metadata": {},
   "outputs": [],
   "source": [
    "df.rename(columns={'rate':'ratings','approx_cost(for two people)':'approx_cost','listed_in(type)':'restaurant_type'},inplace=True)"
   ]
  },
  {
   "cell_type": "code",
   "execution_count": 10,
   "id": "0f3d0877",
   "metadata": {
    "scrolled": true
   },
   "outputs": [
    {
     "data": {
      "text/html": [
       "<div>\n",
       "<style scoped>\n",
       "    .dataframe tbody tr th:only-of-type {\n",
       "        vertical-align: middle;\n",
       "    }\n",
       "\n",
       "    .dataframe tbody tr th {\n",
       "        vertical-align: top;\n",
       "    }\n",
       "\n",
       "    .dataframe thead th {\n",
       "        text-align: right;\n",
       "    }\n",
       "</style>\n",
       "<table border=\"1\" class=\"dataframe\">\n",
       "  <thead>\n",
       "    <tr style=\"text-align: right;\">\n",
       "      <th></th>\n",
       "      <th>address</th>\n",
       "      <th>name</th>\n",
       "      <th>online_order</th>\n",
       "      <th>book_table</th>\n",
       "      <th>ratings</th>\n",
       "      <th>votes</th>\n",
       "      <th>location</th>\n",
       "      <th>rest_type</th>\n",
       "      <th>cuisines</th>\n",
       "      <th>approx_cost</th>\n",
       "      <th>restaurant_type</th>\n",
       "    </tr>\n",
       "  </thead>\n",
       "  <tbody>\n",
       "    <tr>\n",
       "      <th>0</th>\n",
       "      <td>942, 21st Main Road, 2nd Stage, Banashankari, ...</td>\n",
       "      <td>Jalsa</td>\n",
       "      <td>Yes</td>\n",
       "      <td>Yes</td>\n",
       "      <td>4.1/5</td>\n",
       "      <td>775</td>\n",
       "      <td>Banashankari</td>\n",
       "      <td>Casual Dining</td>\n",
       "      <td>North Indian, Mughlai, Chinese</td>\n",
       "      <td>800</td>\n",
       "      <td>Buffet</td>\n",
       "    </tr>\n",
       "    <tr>\n",
       "      <th>1</th>\n",
       "      <td>2nd Floor, 80 Feet Road, Near Big Bazaar, 6th ...</td>\n",
       "      <td>Spice Elephant</td>\n",
       "      <td>Yes</td>\n",
       "      <td>No</td>\n",
       "      <td>4.1/5</td>\n",
       "      <td>787</td>\n",
       "      <td>Banashankari</td>\n",
       "      <td>Casual Dining</td>\n",
       "      <td>Chinese, North Indian, Thai</td>\n",
       "      <td>800</td>\n",
       "      <td>Buffet</td>\n",
       "    </tr>\n",
       "    <tr>\n",
       "      <th>2</th>\n",
       "      <td>1112, Next to KIMS Medical College, 17th Cross...</td>\n",
       "      <td>San Churro Cafe</td>\n",
       "      <td>Yes</td>\n",
       "      <td>No</td>\n",
       "      <td>3.8/5</td>\n",
       "      <td>918</td>\n",
       "      <td>Banashankari</td>\n",
       "      <td>Cafe, Casual Dining</td>\n",
       "      <td>Cafe, Mexican, Italian</td>\n",
       "      <td>800</td>\n",
       "      <td>Buffet</td>\n",
       "    </tr>\n",
       "    <tr>\n",
       "      <th>3</th>\n",
       "      <td>1st Floor, Annakuteera, 3rd Stage, Banashankar...</td>\n",
       "      <td>Addhuri Udupi Bhojana</td>\n",
       "      <td>No</td>\n",
       "      <td>No</td>\n",
       "      <td>3.7/5</td>\n",
       "      <td>88</td>\n",
       "      <td>Banashankari</td>\n",
       "      <td>Quick Bites</td>\n",
       "      <td>South Indian, North Indian</td>\n",
       "      <td>300</td>\n",
       "      <td>Buffet</td>\n",
       "    </tr>\n",
       "    <tr>\n",
       "      <th>4</th>\n",
       "      <td>10, 3rd Floor, Lakshmi Associates, Gandhi Baza...</td>\n",
       "      <td>Grand Village</td>\n",
       "      <td>No</td>\n",
       "      <td>No</td>\n",
       "      <td>3.8/5</td>\n",
       "      <td>166</td>\n",
       "      <td>Basavanagudi</td>\n",
       "      <td>Casual Dining</td>\n",
       "      <td>North Indian, Rajasthani</td>\n",
       "      <td>600</td>\n",
       "      <td>Buffet</td>\n",
       "    </tr>\n",
       "    <tr>\n",
       "      <th>...</th>\n",
       "      <td>...</td>\n",
       "      <td>...</td>\n",
       "      <td>...</td>\n",
       "      <td>...</td>\n",
       "      <td>...</td>\n",
       "      <td>...</td>\n",
       "      <td>...</td>\n",
       "      <td>...</td>\n",
       "      <td>...</td>\n",
       "      <td>...</td>\n",
       "      <td>...</td>\n",
       "    </tr>\n",
       "    <tr>\n",
       "      <th>9760</th>\n",
       "      <td>1131/1, 17th Cross, 7th Sector HSR, Bangalore</td>\n",
       "      <td>Davanagere Benne Dose</td>\n",
       "      <td>Yes</td>\n",
       "      <td>No</td>\n",
       "      <td>3.9/5</td>\n",
       "      <td>106</td>\n",
       "      <td>HSR</td>\n",
       "      <td>Quick Bites</td>\n",
       "      <td>South Indian</td>\n",
       "      <td>150</td>\n",
       "      <td>Dine-out</td>\n",
       "    </tr>\n",
       "    <tr>\n",
       "      <th>9761</th>\n",
       "      <td>445, Shop 1, 5th Main Road, Sector 6, HSR, Ban...</td>\n",
       "      <td>Make It Roll</td>\n",
       "      <td>Yes</td>\n",
       "      <td>No</td>\n",
       "      <td>3.8/5</td>\n",
       "      <td>33</td>\n",
       "      <td>HSR</td>\n",
       "      <td>Quick Bites</td>\n",
       "      <td>Rolls, Salad, Sandwich</td>\n",
       "      <td>400</td>\n",
       "      <td>Dine-out</td>\n",
       "    </tr>\n",
       "    <tr>\n",
       "      <th>9762</th>\n",
       "      <td>2623, Next To Axis Bank, 27th Main Road, Secto...</td>\n",
       "      <td>Shubh Sweets</td>\n",
       "      <td>No</td>\n",
       "      <td>No</td>\n",
       "      <td>3.9/5</td>\n",
       "      <td>331</td>\n",
       "      <td>HSR</td>\n",
       "      <td>Quick Bites, Sweet Shop</td>\n",
       "      <td>Street Food, Mithai, Momos</td>\n",
       "      <td>400</td>\n",
       "      <td>Dine-out</td>\n",
       "    </tr>\n",
       "    <tr>\n",
       "      <th>9763</th>\n",
       "      <td>L139, 15th Cross, 5th Main, Sector 6, HSR Layo...</td>\n",
       "      <td>Biryani Palace</td>\n",
       "      <td>Yes</td>\n",
       "      <td>No</td>\n",
       "      <td>3.9/5</td>\n",
       "      <td>460</td>\n",
       "      <td>HSR</td>\n",
       "      <td>Quick Bites</td>\n",
       "      <td>Biryani, Hyderabadi, Chinese</td>\n",
       "      <td>600</td>\n",
       "      <td>Dine-out</td>\n",
       "    </tr>\n",
       "    <tr>\n",
       "      <th>9764</th>\n",
       "      <td>1st Floor, BKL Building, Hosur Main Road, HSR,...</td>\n",
       "      <td>Tharavadu</td>\n",
       "      <td>Yes</td>\n",
       "      <td>No</td>\n",
       "      <td>3.8/5</td>\n",
       "      <td>83</td>\n",
       "      <td>HSR</td>\n",
       "      <td>Quick Bites</td>\n",
       "      <td>Chinese, North Indian, Kerala</td>\n",
       "      <td>400</td>\n",
       "      <td>Dine-out</td>\n",
       "    </tr>\n",
       "  </tbody>\n",
       "</table>\n",
       "<p>9765 rows × 11 columns</p>\n",
       "</div>"
      ],
      "text/plain": [
       "                                                address  \\\n",
       "0     942, 21st Main Road, 2nd Stage, Banashankari, ...   \n",
       "1     2nd Floor, 80 Feet Road, Near Big Bazaar, 6th ...   \n",
       "2     1112, Next to KIMS Medical College, 17th Cross...   \n",
       "3     1st Floor, Annakuteera, 3rd Stage, Banashankar...   \n",
       "4     10, 3rd Floor, Lakshmi Associates, Gandhi Baza...   \n",
       "...                                                 ...   \n",
       "9760      1131/1, 17th Cross, 7th Sector HSR, Bangalore   \n",
       "9761  445, Shop 1, 5th Main Road, Sector 6, HSR, Ban...   \n",
       "9762  2623, Next To Axis Bank, 27th Main Road, Secto...   \n",
       "9763  L139, 15th Cross, 5th Main, Sector 6, HSR Layo...   \n",
       "9764  1st Floor, BKL Building, Hosur Main Road, HSR,...   \n",
       "\n",
       "                       name online_order book_table ratings  votes  \\\n",
       "0                     Jalsa          Yes        Yes   4.1/5    775   \n",
       "1            Spice Elephant          Yes         No   4.1/5    787   \n",
       "2           San Churro Cafe          Yes         No   3.8/5    918   \n",
       "3     Addhuri Udupi Bhojana           No         No   3.7/5     88   \n",
       "4             Grand Village           No         No   3.8/5    166   \n",
       "...                     ...          ...        ...     ...    ...   \n",
       "9760  Davanagere Benne Dose          Yes         No   3.9/5    106   \n",
       "9761           Make It Roll          Yes         No   3.8/5     33   \n",
       "9762           Shubh Sweets           No         No   3.9/5    331   \n",
       "9763         Biryani Palace          Yes         No   3.9/5    460   \n",
       "9764              Tharavadu          Yes         No   3.8/5     83   \n",
       "\n",
       "          location                rest_type                        cuisines  \\\n",
       "0     Banashankari            Casual Dining  North Indian, Mughlai, Chinese   \n",
       "1     Banashankari            Casual Dining     Chinese, North Indian, Thai   \n",
       "2     Banashankari      Cafe, Casual Dining          Cafe, Mexican, Italian   \n",
       "3     Banashankari              Quick Bites      South Indian, North Indian   \n",
       "4     Basavanagudi            Casual Dining        North Indian, Rajasthani   \n",
       "...            ...                      ...                             ...   \n",
       "9760           HSR              Quick Bites                    South Indian   \n",
       "9761           HSR              Quick Bites          Rolls, Salad, Sandwich   \n",
       "9762           HSR  Quick Bites, Sweet Shop      Street Food, Mithai, Momos   \n",
       "9763           HSR              Quick Bites    Biryani, Hyderabadi, Chinese   \n",
       "9764           HSR              Quick Bites   Chinese, North Indian, Kerala   \n",
       "\n",
       "     approx_cost restaurant_type  \n",
       "0            800          Buffet  \n",
       "1            800          Buffet  \n",
       "2            800          Buffet  \n",
       "3            300          Buffet  \n",
       "4            600          Buffet  \n",
       "...          ...             ...  \n",
       "9760         150        Dine-out  \n",
       "9761         400        Dine-out  \n",
       "9762         400        Dine-out  \n",
       "9763         600        Dine-out  \n",
       "9764         400        Dine-out  \n",
       "\n",
       "[9765 rows x 11 columns]"
      ]
     },
     "execution_count": 10,
     "metadata": {},
     "output_type": "execute_result"
    }
   ],
   "source": [
    "df"
   ]
  },
  {
   "cell_type": "code",
   "execution_count": 11,
   "id": "efd8b6e5",
   "metadata": {},
   "outputs": [
    {
     "data": {
      "text/plain": [
       "address               0\n",
       "name                  0\n",
       "online_order          0\n",
       "book_table            0\n",
       "ratings            1533\n",
       "votes                 0\n",
       "location              3\n",
       "rest_type            47\n",
       "cuisines              6\n",
       "approx_cost          29\n",
       "restaurant_type     617\n",
       "dtype: int64"
      ]
     },
     "execution_count": 11,
     "metadata": {},
     "output_type": "execute_result"
    }
   ],
   "source": [
    "df.isnull().sum()"
   ]
  },
  {
   "cell_type": "code",
   "execution_count": 12,
   "id": "ddcaf7f4",
   "metadata": {},
   "outputs": [
    {
     "data": {
      "text/plain": [
       "array(['4.1/5', '3.8/5', '3.7/5', '3.6/5', '4.6/5', '4.0/5', '4.2/5',\n",
       "       '3.9/5', '3.1/5', '3.0/5', '3.2/5', '3.3/5', '2.8/5', '4.4/5',\n",
       "       '4.3/5', 'NEW', '2.9/5', '3.5/5', nan, '2.6/5', '3.8 /5', '3.4/5',\n",
       "       '4.5/5', '2.5/5', '2.7/5', '4.7/5', '2.4/5', '2.2/5', '2.3/5',\n",
       "       '4.8/5', '4.9/5', '2.1/5', '2.0/5', '4.4 /5', '4.3 /5', '3.9 /5',\n",
       "       '4.5 /5', '4.2 /5', '4.1 /5', '4.0 /5', '1.8/5', '3.3 /5',\n",
       "       '3.7 /5', '3.4 /5', '3.6 /5', '3.5 /5', '3.2 /5', '3.1 /5',\n",
       "       '4.6 /5', '4.9 /5', '2.8 /5', '2.5 /5', '2.9 /5', '-'],\n",
       "      dtype=object)"
      ]
     },
     "execution_count": 12,
     "metadata": {},
     "output_type": "execute_result"
    }
   ],
   "source": [
    "df['ratings'].unique()"
   ]
  },
  {
   "cell_type": "code",
   "execution_count": 13,
   "id": "c078c36b",
   "metadata": {},
   "outputs": [],
   "source": [
    "def handlerate(x):\n",
    "    if x=='NEW' or x=='-':\n",
    "        return np.nan\n",
    "    else:\n",
    "        x = str(x).split(\"/\")\n",
    "        x = x[0]\n",
    "        return float(x)"
   ]
  },
  {
   "cell_type": "code",
   "execution_count": 14,
   "id": "f3d1c108",
   "metadata": {},
   "outputs": [
    {
     "data": {
      "text/plain": [
       "array([4.1, 3.8, 3.7, 3.6, 4.6, 4. , 4.2, 3.9, 3.1, 3. , 3.2, 3.3, 2.8,\n",
       "       4.4, 4.3, nan, 2.9, 3.5, 2.6, 3.4, 4.5, 2.5, 2.7, 4.7, 2.4, 2.2,\n",
       "       2.3, 4.8, 4.9, 2.1, 2. , 1.8])"
      ]
     },
     "execution_count": 14,
     "metadata": {},
     "output_type": "execute_result"
    }
   ],
   "source": [
    "df['ratings'] = df['ratings'].apply(handlerate)\n",
    "df['ratings'].unique()"
   ]
  },
  {
   "cell_type": "code",
   "execution_count": 15,
   "id": "0fb2b433",
   "metadata": {},
   "outputs": [
    {
     "data": {
      "text/plain": [
       "address               0\n",
       "name                  0\n",
       "online_order          0\n",
       "book_table            0\n",
       "ratings            2091\n",
       "votes                 0\n",
       "location              3\n",
       "rest_type            47\n",
       "cuisines              6\n",
       "approx_cost          29\n",
       "restaurant_type     617\n",
       "dtype: int64"
      ]
     },
     "execution_count": 15,
     "metadata": {},
     "output_type": "execute_result"
    }
   ],
   "source": [
    "df.isnull().sum()"
   ]
  },
  {
   "cell_type": "code",
   "execution_count": 16,
   "id": "0f9d0b2b",
   "metadata": {},
   "outputs": [],
   "source": [
    "df['location'].fillna(method='bfill', inplace=True)"
   ]
  },
  {
   "cell_type": "code",
   "execution_count": 17,
   "id": "d99574d8",
   "metadata": {},
   "outputs": [
    {
     "data": {
      "text/plain": [
       "77"
      ]
     },
     "execution_count": 17,
     "metadata": {},
     "output_type": "execute_result"
    }
   ],
   "source": [
    "df['rest_type'].nunique()"
   ]
  },
  {
   "cell_type": "code",
   "execution_count": 18,
   "id": "44274ad7",
   "metadata": {},
   "outputs": [],
   "source": [
    "df['rest_type'].fillna(value='others', inplace=True)"
   ]
  },
  {
   "cell_type": "code",
   "execution_count": 19,
   "id": "99987271",
   "metadata": {},
   "outputs": [
    {
     "data": {
      "text/plain": [
       "(9765, 11)"
      ]
     },
     "execution_count": 19,
     "metadata": {},
     "output_type": "execute_result"
    }
   ],
   "source": [
    "df.shape"
   ]
  },
  {
   "cell_type": "code",
   "execution_count": 20,
   "id": "0c55a73e",
   "metadata": {},
   "outputs": [
    {
     "name": "stdout",
     "output_type": "stream",
     "text": [
      "<class 'pandas.core.frame.DataFrame'>\n",
      "RangeIndex: 9765 entries, 0 to 9764\n",
      "Data columns (total 11 columns):\n",
      " #   Column           Non-Null Count  Dtype  \n",
      "---  ------           --------------  -----  \n",
      " 0   address          9765 non-null   object \n",
      " 1   name             9765 non-null   object \n",
      " 2   online_order     9765 non-null   object \n",
      " 3   book_table       9765 non-null   object \n",
      " 4   ratings          7674 non-null   float64\n",
      " 5   votes            9765 non-null   int64  \n",
      " 6   location         9765 non-null   object \n",
      " 7   rest_type        9765 non-null   object \n",
      " 8   cuisines         9759 non-null   object \n",
      " 9   approx_cost      9736 non-null   float64\n",
      " 10  restaurant_type  9148 non-null   object \n",
      "dtypes: float64(2), int64(1), object(8)\n",
      "memory usage: 839.3+ KB\n"
     ]
    }
   ],
   "source": [
    "df['approx_cost'] = df['approx_cost'].astype(str)\n",
    "df['approx_cost'] = df['approx_cost'].apply(lambda x: x.replace(',','.'))\n",
    "df['approx_cost'] = df['approx_cost'].astype(float)\n",
    "df.info()"
   ]
  },
  {
   "cell_type": "code",
   "execution_count": 21,
   "id": "0e277791",
   "metadata": {},
   "outputs": [],
   "source": [
    "df['approx_cost'].fillna(method='ffill', inplace=True)"
   ]
  },
  {
   "cell_type": "code",
   "execution_count": 22,
   "id": "8d91c41a",
   "metadata": {},
   "outputs": [],
   "source": [
    "df['cuisines'].fillna(value='others', inplace=True)"
   ]
  },
  {
   "cell_type": "code",
   "execution_count": 23,
   "id": "5877ce73",
   "metadata": {},
   "outputs": [],
   "source": [
    "df.dropna(how='any', inplace=True)"
   ]
  },
  {
   "cell_type": "code",
   "execution_count": 24,
   "id": "ee66cac0",
   "metadata": {},
   "outputs": [
    {
     "data": {
      "text/plain": [
       "address            0\n",
       "name               0\n",
       "online_order       0\n",
       "book_table         0\n",
       "ratings            0\n",
       "votes              0\n",
       "location           0\n",
       "rest_type          0\n",
       "cuisines           0\n",
       "approx_cost        0\n",
       "restaurant_type    0\n",
       "dtype: int64"
      ]
     },
     "execution_count": 24,
     "metadata": {},
     "output_type": "execute_result"
    }
   ],
   "source": [
    "df.isnull().sum()"
   ]
  },
  {
   "cell_type": "code",
   "execution_count": 25,
   "id": "6175063b",
   "metadata": {},
   "outputs": [
    {
     "data": {
      "text/plain": [
       "<bound method DataFrame.info of                                                 address  \\\n",
       "0     942, 21st Main Road, 2nd Stage, Banashankari, ...   \n",
       "1     2nd Floor, 80 Feet Road, Near Big Bazaar, 6th ...   \n",
       "2     1112, Next to KIMS Medical College, 17th Cross...   \n",
       "3     1st Floor, Annakuteera, 3rd Stage, Banashankar...   \n",
       "4     10, 3rd Floor, Lakshmi Associates, Gandhi Baza...   \n",
       "...                                                 ...   \n",
       "9760      1131/1, 17th Cross, 7th Sector HSR, Bangalore   \n",
       "9761  445, Shop 1, 5th Main Road, Sector 6, HSR, Ban...   \n",
       "9762  2623, Next To Axis Bank, 27th Main Road, Secto...   \n",
       "9763  L139, 15th Cross, 5th Main, Sector 6, HSR Layo...   \n",
       "9764  1st Floor, BKL Building, Hosur Main Road, HSR,...   \n",
       "\n",
       "                       name online_order book_table  ratings  votes  \\\n",
       "0                     Jalsa          Yes        Yes      4.1    775   \n",
       "1            Spice Elephant          Yes         No      4.1    787   \n",
       "2           San Churro Cafe          Yes         No      3.8    918   \n",
       "3     Addhuri Udupi Bhojana           No         No      3.7     88   \n",
       "4             Grand Village           No         No      3.8    166   \n",
       "...                     ...          ...        ...      ...    ...   \n",
       "9760  Davanagere Benne Dose          Yes         No      3.9    106   \n",
       "9761           Make It Roll          Yes         No      3.8     33   \n",
       "9762           Shubh Sweets           No         No      3.9    331   \n",
       "9763         Biryani Palace          Yes         No      3.9    460   \n",
       "9764              Tharavadu          Yes         No      3.8     83   \n",
       "\n",
       "          location                rest_type                        cuisines  \\\n",
       "0     Banashankari            Casual Dining  North Indian, Mughlai, Chinese   \n",
       "1     Banashankari            Casual Dining     Chinese, North Indian, Thai   \n",
       "2     Banashankari      Cafe, Casual Dining          Cafe, Mexican, Italian   \n",
       "3     Banashankari              Quick Bites      South Indian, North Indian   \n",
       "4     Basavanagudi            Casual Dining        North Indian, Rajasthani   \n",
       "...            ...                      ...                             ...   \n",
       "9760           HSR              Quick Bites                    South Indian   \n",
       "9761           HSR              Quick Bites          Rolls, Salad, Sandwich   \n",
       "9762           HSR  Quick Bites, Sweet Shop      Street Food, Mithai, Momos   \n",
       "9763           HSR              Quick Bites    Biryani, Hyderabadi, Chinese   \n",
       "9764           HSR              Quick Bites   Chinese, North Indian, Kerala   \n",
       "\n",
       "      approx_cost restaurant_type  \n",
       "0           800.0          Buffet  \n",
       "1           800.0          Buffet  \n",
       "2           800.0          Buffet  \n",
       "3           300.0          Buffet  \n",
       "4           600.0          Buffet  \n",
       "...           ...             ...  \n",
       "9760        150.0        Dine-out  \n",
       "9761        400.0        Dine-out  \n",
       "9762        400.0        Dine-out  \n",
       "9763        600.0        Dine-out  \n",
       "9764        400.0        Dine-out  \n",
       "\n",
       "[7061 rows x 11 columns]>"
      ]
     },
     "execution_count": 25,
     "metadata": {},
     "output_type": "execute_result"
    }
   ],
   "source": [
    "df.info"
   ]
  },
  {
   "cell_type": "code",
   "execution_count": 26,
   "id": "dcec980f",
   "metadata": {},
   "outputs": [
    {
     "data": {
      "text/html": [
       "<div>\n",
       "<style scoped>\n",
       "    .dataframe tbody tr th:only-of-type {\n",
       "        vertical-align: middle;\n",
       "    }\n",
       "\n",
       "    .dataframe tbody tr th {\n",
       "        vertical-align: top;\n",
       "    }\n",
       "\n",
       "    .dataframe thead th {\n",
       "        text-align: right;\n",
       "    }\n",
       "</style>\n",
       "<table border=\"1\" class=\"dataframe\">\n",
       "  <thead>\n",
       "    <tr style=\"text-align: right;\">\n",
       "      <th></th>\n",
       "      <th>address</th>\n",
       "      <th>name</th>\n",
       "      <th>online_order</th>\n",
       "      <th>book_table</th>\n",
       "      <th>ratings</th>\n",
       "      <th>votes</th>\n",
       "      <th>location</th>\n",
       "      <th>rest_type</th>\n",
       "      <th>cuisines</th>\n",
       "      <th>approx_cost</th>\n",
       "      <th>restaurant_type</th>\n",
       "    </tr>\n",
       "  </thead>\n",
       "  <tbody>\n",
       "    <tr>\n",
       "      <th>0</th>\n",
       "      <td>942, 21st Main Road, 2nd Stage, Banashankari, ...</td>\n",
       "      <td>Jalsa</td>\n",
       "      <td>Yes</td>\n",
       "      <td>Yes</td>\n",
       "      <td>4.1</td>\n",
       "      <td>775</td>\n",
       "      <td>Banashankari</td>\n",
       "      <td>Casual Dining</td>\n",
       "      <td>North Indian, Mughlai, Chinese</td>\n",
       "      <td>800.0</td>\n",
       "      <td>Buffet</td>\n",
       "    </tr>\n",
       "    <tr>\n",
       "      <th>1</th>\n",
       "      <td>2nd Floor, 80 Feet Road, Near Big Bazaar, 6th ...</td>\n",
       "      <td>Spice Elephant</td>\n",
       "      <td>Yes</td>\n",
       "      <td>No</td>\n",
       "      <td>4.1</td>\n",
       "      <td>787</td>\n",
       "      <td>Banashankari</td>\n",
       "      <td>Casual Dining</td>\n",
       "      <td>Chinese, North Indian, Thai</td>\n",
       "      <td>800.0</td>\n",
       "      <td>Buffet</td>\n",
       "    </tr>\n",
       "    <tr>\n",
       "      <th>2</th>\n",
       "      <td>1112, Next to KIMS Medical College, 17th Cross...</td>\n",
       "      <td>San Churro Cafe</td>\n",
       "      <td>Yes</td>\n",
       "      <td>No</td>\n",
       "      <td>3.8</td>\n",
       "      <td>918</td>\n",
       "      <td>Banashankari</td>\n",
       "      <td>Cafe, Casual Dining</td>\n",
       "      <td>Cafe, Mexican, Italian</td>\n",
       "      <td>800.0</td>\n",
       "      <td>Buffet</td>\n",
       "    </tr>\n",
       "    <tr>\n",
       "      <th>3</th>\n",
       "      <td>1st Floor, Annakuteera, 3rd Stage, Banashankar...</td>\n",
       "      <td>Addhuri Udupi Bhojana</td>\n",
       "      <td>No</td>\n",
       "      <td>No</td>\n",
       "      <td>3.7</td>\n",
       "      <td>88</td>\n",
       "      <td>Banashankari</td>\n",
       "      <td>Quick Bites</td>\n",
       "      <td>South Indian, North Indian</td>\n",
       "      <td>300.0</td>\n",
       "      <td>Buffet</td>\n",
       "    </tr>\n",
       "    <tr>\n",
       "      <th>4</th>\n",
       "      <td>10, 3rd Floor, Lakshmi Associates, Gandhi Baza...</td>\n",
       "      <td>Grand Village</td>\n",
       "      <td>No</td>\n",
       "      <td>No</td>\n",
       "      <td>3.8</td>\n",
       "      <td>166</td>\n",
       "      <td>Basavanagudi</td>\n",
       "      <td>Casual Dining</td>\n",
       "      <td>North Indian, Rajasthani</td>\n",
       "      <td>600.0</td>\n",
       "      <td>Buffet</td>\n",
       "    </tr>\n",
       "    <tr>\n",
       "      <th>...</th>\n",
       "      <td>...</td>\n",
       "      <td>...</td>\n",
       "      <td>...</td>\n",
       "      <td>...</td>\n",
       "      <td>...</td>\n",
       "      <td>...</td>\n",
       "      <td>...</td>\n",
       "      <td>...</td>\n",
       "      <td>...</td>\n",
       "      <td>...</td>\n",
       "      <td>...</td>\n",
       "    </tr>\n",
       "    <tr>\n",
       "      <th>9760</th>\n",
       "      <td>1131/1, 17th Cross, 7th Sector HSR, Bangalore</td>\n",
       "      <td>Davanagere Benne Dose</td>\n",
       "      <td>Yes</td>\n",
       "      <td>No</td>\n",
       "      <td>3.9</td>\n",
       "      <td>106</td>\n",
       "      <td>HSR</td>\n",
       "      <td>Quick Bites</td>\n",
       "      <td>South Indian</td>\n",
       "      <td>150.0</td>\n",
       "      <td>Dine-out</td>\n",
       "    </tr>\n",
       "    <tr>\n",
       "      <th>9761</th>\n",
       "      <td>445, Shop 1, 5th Main Road, Sector 6, HSR, Ban...</td>\n",
       "      <td>Make It Roll</td>\n",
       "      <td>Yes</td>\n",
       "      <td>No</td>\n",
       "      <td>3.8</td>\n",
       "      <td>33</td>\n",
       "      <td>HSR</td>\n",
       "      <td>Quick Bites</td>\n",
       "      <td>Rolls, Salad, Sandwich</td>\n",
       "      <td>400.0</td>\n",
       "      <td>Dine-out</td>\n",
       "    </tr>\n",
       "    <tr>\n",
       "      <th>9762</th>\n",
       "      <td>2623, Next To Axis Bank, 27th Main Road, Secto...</td>\n",
       "      <td>Shubh Sweets</td>\n",
       "      <td>No</td>\n",
       "      <td>No</td>\n",
       "      <td>3.9</td>\n",
       "      <td>331</td>\n",
       "      <td>HSR</td>\n",
       "      <td>Quick Bites, Sweet Shop</td>\n",
       "      <td>Street Food, Mithai, Momos</td>\n",
       "      <td>400.0</td>\n",
       "      <td>Dine-out</td>\n",
       "    </tr>\n",
       "    <tr>\n",
       "      <th>9763</th>\n",
       "      <td>L139, 15th Cross, 5th Main, Sector 6, HSR Layo...</td>\n",
       "      <td>Biryani Palace</td>\n",
       "      <td>Yes</td>\n",
       "      <td>No</td>\n",
       "      <td>3.9</td>\n",
       "      <td>460</td>\n",
       "      <td>HSR</td>\n",
       "      <td>Quick Bites</td>\n",
       "      <td>Biryani, Hyderabadi, Chinese</td>\n",
       "      <td>600.0</td>\n",
       "      <td>Dine-out</td>\n",
       "    </tr>\n",
       "    <tr>\n",
       "      <th>9764</th>\n",
       "      <td>1st Floor, BKL Building, Hosur Main Road, HSR,...</td>\n",
       "      <td>Tharavadu</td>\n",
       "      <td>Yes</td>\n",
       "      <td>No</td>\n",
       "      <td>3.8</td>\n",
       "      <td>83</td>\n",
       "      <td>HSR</td>\n",
       "      <td>Quick Bites</td>\n",
       "      <td>Chinese, North Indian, Kerala</td>\n",
       "      <td>400.0</td>\n",
       "      <td>Dine-out</td>\n",
       "    </tr>\n",
       "  </tbody>\n",
       "</table>\n",
       "<p>7061 rows × 11 columns</p>\n",
       "</div>"
      ],
      "text/plain": [
       "                                                address  \\\n",
       "0     942, 21st Main Road, 2nd Stage, Banashankari, ...   \n",
       "1     2nd Floor, 80 Feet Road, Near Big Bazaar, 6th ...   \n",
       "2     1112, Next to KIMS Medical College, 17th Cross...   \n",
       "3     1st Floor, Annakuteera, 3rd Stage, Banashankar...   \n",
       "4     10, 3rd Floor, Lakshmi Associates, Gandhi Baza...   \n",
       "...                                                 ...   \n",
       "9760      1131/1, 17th Cross, 7th Sector HSR, Bangalore   \n",
       "9761  445, Shop 1, 5th Main Road, Sector 6, HSR, Ban...   \n",
       "9762  2623, Next To Axis Bank, 27th Main Road, Secto...   \n",
       "9763  L139, 15th Cross, 5th Main, Sector 6, HSR Layo...   \n",
       "9764  1st Floor, BKL Building, Hosur Main Road, HSR,...   \n",
       "\n",
       "                       name online_order book_table  ratings  votes  \\\n",
       "0                     Jalsa          Yes        Yes      4.1    775   \n",
       "1            Spice Elephant          Yes         No      4.1    787   \n",
       "2           San Churro Cafe          Yes         No      3.8    918   \n",
       "3     Addhuri Udupi Bhojana           No         No      3.7     88   \n",
       "4             Grand Village           No         No      3.8    166   \n",
       "...                     ...          ...        ...      ...    ...   \n",
       "9760  Davanagere Benne Dose          Yes         No      3.9    106   \n",
       "9761           Make It Roll          Yes         No      3.8     33   \n",
       "9762           Shubh Sweets           No         No      3.9    331   \n",
       "9763         Biryani Palace          Yes         No      3.9    460   \n",
       "9764              Tharavadu          Yes         No      3.8     83   \n",
       "\n",
       "          location                rest_type                        cuisines  \\\n",
       "0     Banashankari            Casual Dining  North Indian, Mughlai, Chinese   \n",
       "1     Banashankari            Casual Dining     Chinese, North Indian, Thai   \n",
       "2     Banashankari      Cafe, Casual Dining          Cafe, Mexican, Italian   \n",
       "3     Banashankari              Quick Bites      South Indian, North Indian   \n",
       "4     Basavanagudi            Casual Dining        North Indian, Rajasthani   \n",
       "...            ...                      ...                             ...   \n",
       "9760           HSR              Quick Bites                    South Indian   \n",
       "9761           HSR              Quick Bites          Rolls, Salad, Sandwich   \n",
       "9762           HSR  Quick Bites, Sweet Shop      Street Food, Mithai, Momos   \n",
       "9763           HSR              Quick Bites    Biryani, Hyderabadi, Chinese   \n",
       "9764           HSR              Quick Bites   Chinese, North Indian, Kerala   \n",
       "\n",
       "      approx_cost restaurant_type  \n",
       "0           800.0          Buffet  \n",
       "1           800.0          Buffet  \n",
       "2           800.0          Buffet  \n",
       "3           300.0          Buffet  \n",
       "4           600.0          Buffet  \n",
       "...           ...             ...  \n",
       "9760        150.0        Dine-out  \n",
       "9761        400.0        Dine-out  \n",
       "9762        400.0        Dine-out  \n",
       "9763        600.0        Dine-out  \n",
       "9764        400.0        Dine-out  \n",
       "\n",
       "[7061 rows x 11 columns]"
      ]
     },
     "execution_count": 26,
     "metadata": {},
     "output_type": "execute_result"
    }
   ],
   "source": [
    "df"
   ]
  },
  {
   "cell_type": "code",
   "execution_count": 27,
   "id": "d9b188ca",
   "metadata": {},
   "outputs": [],
   "source": [
    "df.to_csv(\"C:/Users/soumy/OneDrive/Documents/zomato_output.csv\",encoding='ISO-8859-1')"
   ]
  },
  {
   "cell_type": "code",
   "execution_count": 28,
   "id": "29f347d8",
   "metadata": {},
   "outputs": [
    {
     "data": {
      "text/html": [
       "<div>\n",
       "<style scoped>\n",
       "    .dataframe tbody tr th:only-of-type {\n",
       "        vertical-align: middle;\n",
       "    }\n",
       "\n",
       "    .dataframe tbody tr th {\n",
       "        vertical-align: top;\n",
       "    }\n",
       "\n",
       "    .dataframe thead th {\n",
       "        text-align: right;\n",
       "    }\n",
       "</style>\n",
       "<table border=\"1\" class=\"dataframe\">\n",
       "  <thead>\n",
       "    <tr style=\"text-align: right;\">\n",
       "      <th></th>\n",
       "      <th>address</th>\n",
       "      <th>name</th>\n",
       "      <th>online_order</th>\n",
       "      <th>book_table</th>\n",
       "      <th>ratings</th>\n",
       "      <th>votes</th>\n",
       "      <th>location</th>\n",
       "      <th>rest_type</th>\n",
       "      <th>cuisines</th>\n",
       "      <th>approx_cost</th>\n",
       "      <th>restaurant_type</th>\n",
       "    </tr>\n",
       "  </thead>\n",
       "  <tbody>\n",
       "    <tr>\n",
       "      <th>0</th>\n",
       "      <td>942, 21st Main Road, 2nd Stage, Banashankari, ...</td>\n",
       "      <td>Jalsa</td>\n",
       "      <td>Yes</td>\n",
       "      <td>Yes</td>\n",
       "      <td>4.1</td>\n",
       "      <td>775</td>\n",
       "      <td>Banashankari</td>\n",
       "      <td>Casual Dining</td>\n",
       "      <td>North Indian, Mughlai, Chinese</td>\n",
       "      <td>800.0</td>\n",
       "      <td>Buffet</td>\n",
       "    </tr>\n",
       "    <tr>\n",
       "      <th>1</th>\n",
       "      <td>2nd Floor, 80 Feet Road, Near Big Bazaar, 6th ...</td>\n",
       "      <td>Spice Elephant</td>\n",
       "      <td>Yes</td>\n",
       "      <td>No</td>\n",
       "      <td>4.1</td>\n",
       "      <td>787</td>\n",
       "      <td>Banashankari</td>\n",
       "      <td>Casual Dining</td>\n",
       "      <td>Chinese, North Indian, Thai</td>\n",
       "      <td>800.0</td>\n",
       "      <td>Buffet</td>\n",
       "    </tr>\n",
       "    <tr>\n",
       "      <th>2</th>\n",
       "      <td>1112, Next to KIMS Medical College, 17th Cross...</td>\n",
       "      <td>San Churro Cafe</td>\n",
       "      <td>Yes</td>\n",
       "      <td>No</td>\n",
       "      <td>3.8</td>\n",
       "      <td>918</td>\n",
       "      <td>Banashankari</td>\n",
       "      <td>Cafe, Casual Dining</td>\n",
       "      <td>Cafe, Mexican, Italian</td>\n",
       "      <td>800.0</td>\n",
       "      <td>Buffet</td>\n",
       "    </tr>\n",
       "  </tbody>\n",
       "</table>\n",
       "</div>"
      ],
      "text/plain": [
       "                                             address             name  \\\n",
       "0  942, 21st Main Road, 2nd Stage, Banashankari, ...            Jalsa   \n",
       "1  2nd Floor, 80 Feet Road, Near Big Bazaar, 6th ...   Spice Elephant   \n",
       "2  1112, Next to KIMS Medical College, 17th Cross...  San Churro Cafe   \n",
       "\n",
       "  online_order book_table  ratings  votes      location            rest_type  \\\n",
       "0          Yes        Yes      4.1    775  Banashankari        Casual Dining   \n",
       "1          Yes         No      4.1    787  Banashankari        Casual Dining   \n",
       "2          Yes         No      3.8    918  Banashankari  Cafe, Casual Dining   \n",
       "\n",
       "                         cuisines  approx_cost restaurant_type  \n",
       "0  North Indian, Mughlai, Chinese        800.0          Buffet  \n",
       "1     Chinese, North Indian, Thai        800.0          Buffet  \n",
       "2          Cafe, Mexican, Italian        800.0          Buffet  "
      ]
     },
     "execution_count": 28,
     "metadata": {},
     "output_type": "execute_result"
    }
   ],
   "source": [
    "df.head(3)"
   ]
  },
  {
   "cell_type": "code",
   "execution_count": 29,
   "id": "a8d04b0e",
   "metadata": {},
   "outputs": [],
   "source": [
    "location = df['location'].value_counts(ascending = False)"
   ]
  },
  {
   "cell_type": "code",
   "execution_count": 30,
   "id": "47a9bd0f",
   "metadata": {},
   "outputs": [
    {
     "data": {
      "text/html": [
       "<div>\n",
       "<style scoped>\n",
       "    .dataframe tbody tr th:only-of-type {\n",
       "        vertical-align: middle;\n",
       "    }\n",
       "\n",
       "    .dataframe tbody tr th {\n",
       "        vertical-align: top;\n",
       "    }\n",
       "\n",
       "    .dataframe thead th {\n",
       "        text-align: right;\n",
       "    }\n",
       "</style>\n",
       "<table border=\"1\" class=\"dataframe\">\n",
       "  <thead>\n",
       "    <tr style=\"text-align: right;\">\n",
       "      <th></th>\n",
       "      <th>address</th>\n",
       "      <th>name</th>\n",
       "      <th>online_order</th>\n",
       "      <th>book_table</th>\n",
       "      <th>ratings</th>\n",
       "      <th>votes</th>\n",
       "      <th>location</th>\n",
       "      <th>rest_type</th>\n",
       "      <th>cuisines</th>\n",
       "      <th>approx_cost</th>\n",
       "      <th>restaurant_type</th>\n",
       "    </tr>\n",
       "  </thead>\n",
       "  <tbody>\n",
       "    <tr>\n",
       "      <th>0</th>\n",
       "      <td>942, 21st Main Road, 2nd Stage, Banashankari, ...</td>\n",
       "      <td>Jalsa</td>\n",
       "      <td>Yes</td>\n",
       "      <td>Yes</td>\n",
       "      <td>4.1</td>\n",
       "      <td>775</td>\n",
       "      <td>Banashankari</td>\n",
       "      <td>Casual Dining</td>\n",
       "      <td>North Indian, Mughlai, Chinese</td>\n",
       "      <td>800.0</td>\n",
       "      <td>Buffet</td>\n",
       "    </tr>\n",
       "    <tr>\n",
       "      <th>1</th>\n",
       "      <td>2nd Floor, 80 Feet Road, Near Big Bazaar, 6th ...</td>\n",
       "      <td>Spice Elephant</td>\n",
       "      <td>Yes</td>\n",
       "      <td>No</td>\n",
       "      <td>4.1</td>\n",
       "      <td>787</td>\n",
       "      <td>Banashankari</td>\n",
       "      <td>Casual Dining</td>\n",
       "      <td>Chinese, North Indian, Thai</td>\n",
       "      <td>800.0</td>\n",
       "      <td>Buffet</td>\n",
       "    </tr>\n",
       "    <tr>\n",
       "      <th>2</th>\n",
       "      <td>1112, Next to KIMS Medical College, 17th Cross...</td>\n",
       "      <td>San Churro Cafe</td>\n",
       "      <td>Yes</td>\n",
       "      <td>No</td>\n",
       "      <td>3.8</td>\n",
       "      <td>918</td>\n",
       "      <td>Banashankari</td>\n",
       "      <td>Cafe, Casual Dining</td>\n",
       "      <td>Cafe, Mexican, Italian</td>\n",
       "      <td>800.0</td>\n",
       "      <td>Buffet</td>\n",
       "    </tr>\n",
       "    <tr>\n",
       "      <th>3</th>\n",
       "      <td>1st Floor, Annakuteera, 3rd Stage, Banashankar...</td>\n",
       "      <td>Addhuri Udupi Bhojana</td>\n",
       "      <td>No</td>\n",
       "      <td>No</td>\n",
       "      <td>3.7</td>\n",
       "      <td>88</td>\n",
       "      <td>Banashankari</td>\n",
       "      <td>Quick Bites</td>\n",
       "      <td>South Indian, North Indian</td>\n",
       "      <td>300.0</td>\n",
       "      <td>Buffet</td>\n",
       "    </tr>\n",
       "    <tr>\n",
       "      <th>4</th>\n",
       "      <td>10, 3rd Floor, Lakshmi Associates, Gandhi Baza...</td>\n",
       "      <td>Grand Village</td>\n",
       "      <td>No</td>\n",
       "      <td>No</td>\n",
       "      <td>3.8</td>\n",
       "      <td>166</td>\n",
       "      <td>Basavanagudi</td>\n",
       "      <td>Casual Dining</td>\n",
       "      <td>North Indian, Rajasthani</td>\n",
       "      <td>600.0</td>\n",
       "      <td>Buffet</td>\n",
       "    </tr>\n",
       "    <tr>\n",
       "      <th>...</th>\n",
       "      <td>...</td>\n",
       "      <td>...</td>\n",
       "      <td>...</td>\n",
       "      <td>...</td>\n",
       "      <td>...</td>\n",
       "      <td>...</td>\n",
       "      <td>...</td>\n",
       "      <td>...</td>\n",
       "      <td>...</td>\n",
       "      <td>...</td>\n",
       "      <td>...</td>\n",
       "    </tr>\n",
       "    <tr>\n",
       "      <th>9760</th>\n",
       "      <td>1131/1, 17th Cross, 7th Sector HSR, Bangalore</td>\n",
       "      <td>Davanagere Benne Dose</td>\n",
       "      <td>Yes</td>\n",
       "      <td>No</td>\n",
       "      <td>3.9</td>\n",
       "      <td>106</td>\n",
       "      <td>HSR</td>\n",
       "      <td>Quick Bites</td>\n",
       "      <td>South Indian</td>\n",
       "      <td>150.0</td>\n",
       "      <td>Dine-out</td>\n",
       "    </tr>\n",
       "    <tr>\n",
       "      <th>9761</th>\n",
       "      <td>445, Shop 1, 5th Main Road, Sector 6, HSR, Ban...</td>\n",
       "      <td>Make It Roll</td>\n",
       "      <td>Yes</td>\n",
       "      <td>No</td>\n",
       "      <td>3.8</td>\n",
       "      <td>33</td>\n",
       "      <td>HSR</td>\n",
       "      <td>Quick Bites</td>\n",
       "      <td>Rolls, Salad, Sandwich</td>\n",
       "      <td>400.0</td>\n",
       "      <td>Dine-out</td>\n",
       "    </tr>\n",
       "    <tr>\n",
       "      <th>9762</th>\n",
       "      <td>2623, Next To Axis Bank, 27th Main Road, Secto...</td>\n",
       "      <td>Shubh Sweets</td>\n",
       "      <td>No</td>\n",
       "      <td>No</td>\n",
       "      <td>3.9</td>\n",
       "      <td>331</td>\n",
       "      <td>HSR</td>\n",
       "      <td>Quick Bites, Sweet Shop</td>\n",
       "      <td>Street Food, Mithai, Momos</td>\n",
       "      <td>400.0</td>\n",
       "      <td>Dine-out</td>\n",
       "    </tr>\n",
       "    <tr>\n",
       "      <th>9763</th>\n",
       "      <td>L139, 15th Cross, 5th Main, Sector 6, HSR Layo...</td>\n",
       "      <td>Biryani Palace</td>\n",
       "      <td>Yes</td>\n",
       "      <td>No</td>\n",
       "      <td>3.9</td>\n",
       "      <td>460</td>\n",
       "      <td>HSR</td>\n",
       "      <td>Quick Bites</td>\n",
       "      <td>Biryani, Hyderabadi, Chinese</td>\n",
       "      <td>600.0</td>\n",
       "      <td>Dine-out</td>\n",
       "    </tr>\n",
       "    <tr>\n",
       "      <th>9764</th>\n",
       "      <td>1st Floor, BKL Building, Hosur Main Road, HSR,...</td>\n",
       "      <td>Tharavadu</td>\n",
       "      <td>Yes</td>\n",
       "      <td>No</td>\n",
       "      <td>3.8</td>\n",
       "      <td>83</td>\n",
       "      <td>HSR</td>\n",
       "      <td>Quick Bites</td>\n",
       "      <td>Chinese, North Indian, Kerala</td>\n",
       "      <td>400.0</td>\n",
       "      <td>Dine-out</td>\n",
       "    </tr>\n",
       "  </tbody>\n",
       "</table>\n",
       "<p>7061 rows × 11 columns</p>\n",
       "</div>"
      ],
      "text/plain": [
       "                                                address  \\\n",
       "0     942, 21st Main Road, 2nd Stage, Banashankari, ...   \n",
       "1     2nd Floor, 80 Feet Road, Near Big Bazaar, 6th ...   \n",
       "2     1112, Next to KIMS Medical College, 17th Cross...   \n",
       "3     1st Floor, Annakuteera, 3rd Stage, Banashankar...   \n",
       "4     10, 3rd Floor, Lakshmi Associates, Gandhi Baza...   \n",
       "...                                                 ...   \n",
       "9760      1131/1, 17th Cross, 7th Sector HSR, Bangalore   \n",
       "9761  445, Shop 1, 5th Main Road, Sector 6, HSR, Ban...   \n",
       "9762  2623, Next To Axis Bank, 27th Main Road, Secto...   \n",
       "9763  L139, 15th Cross, 5th Main, Sector 6, HSR Layo...   \n",
       "9764  1st Floor, BKL Building, Hosur Main Road, HSR,...   \n",
       "\n",
       "                       name online_order book_table  ratings  votes  \\\n",
       "0                     Jalsa          Yes        Yes      4.1    775   \n",
       "1            Spice Elephant          Yes         No      4.1    787   \n",
       "2           San Churro Cafe          Yes         No      3.8    918   \n",
       "3     Addhuri Udupi Bhojana           No         No      3.7     88   \n",
       "4             Grand Village           No         No      3.8    166   \n",
       "...                     ...          ...        ...      ...    ...   \n",
       "9760  Davanagere Benne Dose          Yes         No      3.9    106   \n",
       "9761           Make It Roll          Yes         No      3.8     33   \n",
       "9762           Shubh Sweets           No         No      3.9    331   \n",
       "9763         Biryani Palace          Yes         No      3.9    460   \n",
       "9764              Tharavadu          Yes         No      3.8     83   \n",
       "\n",
       "          location                rest_type                        cuisines  \\\n",
       "0     Banashankari            Casual Dining  North Indian, Mughlai, Chinese   \n",
       "1     Banashankari            Casual Dining     Chinese, North Indian, Thai   \n",
       "2     Banashankari      Cafe, Casual Dining          Cafe, Mexican, Italian   \n",
       "3     Banashankari              Quick Bites      South Indian, North Indian   \n",
       "4     Basavanagudi            Casual Dining        North Indian, Rajasthani   \n",
       "...            ...                      ...                             ...   \n",
       "9760           HSR              Quick Bites                    South Indian   \n",
       "9761           HSR              Quick Bites          Rolls, Salad, Sandwich   \n",
       "9762           HSR  Quick Bites, Sweet Shop      Street Food, Mithai, Momos   \n",
       "9763           HSR              Quick Bites    Biryani, Hyderabadi, Chinese   \n",
       "9764           HSR              Quick Bites   Chinese, North Indian, Kerala   \n",
       "\n",
       "      approx_cost restaurant_type  \n",
       "0           800.0          Buffet  \n",
       "1           800.0          Buffet  \n",
       "2           800.0          Buffet  \n",
       "3           300.0          Buffet  \n",
       "4           600.0          Buffet  \n",
       "...           ...             ...  \n",
       "9760        150.0        Dine-out  \n",
       "9761        400.0        Dine-out  \n",
       "9762        400.0        Dine-out  \n",
       "9763        600.0        Dine-out  \n",
       "9764        400.0        Dine-out  \n",
       "\n",
       "[7061 rows x 11 columns]"
      ]
     },
     "execution_count": 30,
     "metadata": {},
     "output_type": "execute_result"
    }
   ],
   "source": [
    "df"
   ]
  },
  {
   "cell_type": "code",
   "execution_count": 31,
   "id": "fa75c0a7",
   "metadata": {},
   "outputs": [
    {
     "data": {
      "text/plain": [
       "Banashankari                     423\n",
       "Jayanagar                        272\n",
       "Koramangala 5th Block            246\n",
       "Frazer Town                      210\n",
       "Basavanagudi                     197\n",
       "Marathahalli                     165\n",
       "Sarjapur Road                    163\n",
       "Whitefield                       163\n",
       "Ulsoor                           157\n",
       "Brigade Road                     146\n",
       "Koramangala 1st Block            143\n",
       "Brookefield                      131\n",
       "Bellandur                        115\n",
       "Koramangala 7th Block            111\n",
       "MG Road                          100\n",
       "Cunningham Road                   97\n",
       "Shivajinagar                      77\n",
       "Richmond Road                     77\n",
       "Commercial Street                 76\n",
       "Koramangala 6th Block             73\n",
       "Koramangala 4th Block             71\n",
       "Residency Road                    68\n",
       "Bommanahalli                      64\n",
       "Church Street                     55\n",
       "Kumaraswamy Layout                53\n",
       "Shanti Nagar                      51\n",
       "Lavelle Road                      48\n",
       "Vasanth Nagar                     46\n",
       "Indiranagar                       41\n",
       "St. Marks Road                    34\n",
       "South Bangalore                   32\n",
       "Banaswadi                         25\n",
       "Infantry Road                     24\n",
       "Koramangala 2nd Block             20\n",
       "Kammanahalli                      18\n",
       "RT Nagar                          17\n",
       "Koramangala 3rd Block             17\n",
       "Mysore Road                       15\n",
       "Koramangala 8th Block             15\n",
       "Ejipura                           12\n",
       "City Market                       11\n",
       "Race Course Road                  10\n",
       "Hosur Road                        10\n",
       "Electronic City                    9\n",
       "Uttarahalli                        9\n",
       "Varthur Main Road, Whitefield      8\n",
       "ITPL Main Road, Whitefield         7\n",
       "Koramangala                        6\n",
       "Wilson Garden                      5\n",
       "Kanakapura Road                    5\n",
       "Majestic                           4\n",
       "Vijay Nagar                        4\n",
       "Langford Town                      3\n",
       "Nagawara                           2\n",
       "Hennur                             2\n",
       "Rajarajeshwari Nagar               2\n",
       "Central Bangalore                  1\n",
       "Kalyan Nagar                       1\n",
       "HBR Layout                         1\n",
       "Rammurthy Nagar                    1\n",
       "Name: location, dtype: int64"
      ]
     },
     "execution_count": 31,
     "metadata": {},
     "output_type": "execute_result"
    }
   ],
   "source": [
    "location_less_than_500 = location[location<500]\n",
    "location_less_than_500"
   ]
  },
  {
   "cell_type": "code",
   "execution_count": 32,
   "id": "646dd00a",
   "metadata": {},
   "outputs": [],
   "source": [
    "import matplotlib as mplt\n",
    "import seaborn as sns\n",
    "import matplotlib.pyplot as plt"
   ]
  },
  {
   "cell_type": "code",
   "execution_count": 33,
   "id": "e6409eb9",
   "metadata": {
    "scrolled": true
   },
   "outputs": [
    {
     "data": {
      "text/plain": [
       "Text(0.5, 1.0, 'Type of service')"
      ]
     },
     "execution_count": 33,
     "metadata": {},
     "output_type": "execute_result"
    },
    {
     "data": {
      "image/png": "[encoded data removed]",
      "text/plain": [
       "<Figure size 1000x400 with 1 Axes>"
      ]
     },
     "metadata": {},
     "output_type": "display_data"
    }
   ],
   "source": [
    "plt.figure(figsize=[10,4])\n",
    "sns.countplot(x=df['restaurant_type'])\n",
    "sns.countplot(x=df['restaurant_type']).set_xticklabels(sns.countplot(x=df['restaurant_type']).get_xticklabels())\n",
    "plt.title('Type of service')"
   ]
  },
  {
   "cell_type": "code",
   "execution_count": 34,
   "id": "469c2b93",
   "metadata": {},
   "outputs": [
    {
     "data": {
      "image/png": "[encoded data removed]",
      "text/plain": [
       "<Figure size 640x480 with 2 Axes>"
      ]
     },
     "metadata": {},
     "output_type": "display_data"
    }
   ],
   "source": [
    "fig=plt.figure()\n",
    "fig.suptitle(\"Restaurants delivering & table booking \",fontsize=15)\n",
    "plt.subplot(1,2,1)\n",
    "x=df['online_order'].value_counts()\n",
    "labels=['online','offline']\n",
    "plt.pie(x,explode=[0.0,0.1],autopct='%1.1f%%', labels=labels)\n",
    "\n",
    "plt.tight_layout()\n",
    "\n",
    "plt.subplot(1,2,2)\n",
    "x=df['book_table'].value_counts()\n",
    "labels=['booked','not booked']\n",
    "plt.pie(x,explode=[0.0,0.1],autopct='%1.1f%%', labels=labels)\n",
    "\n",
    "plt.tight_layout()"
   ]
  },
  {
   "cell_type": "code",
   "execution_count": 35,
   "id": "1d467bf3",
   "metadata": {
    "scrolled": true
   },
   "outputs": [
    {
     "data": {
      "image/png": "[encoded data removed]",
      "text/plain": [
       "<Figure size 800x400 with 2 Axes>"
      ]
     },
     "metadata": {},
     "output_type": "display_data"
    }
   ],
   "source": [
    "plt.figure(figsize=(8,4))\n",
    "sns.heatmap(df.corr(numeric_only = True), annot=True);"
   ]
  },
  {
   "cell_type": "code",
   "execution_count": 36,
   "id": "ae982a90",
   "metadata": {
    "scrolled": false
   },
   "outputs": [
    {
     "data": {
      "text/plain": [
       "<Axes: title={'center': 'Affect of cost on mode of order'}, xlabel='online_order', ylabel='approx_cost'>"
      ]
     },
     "execution_count": 36,
     "metadata": {},
     "output_type": "execute_result"
    },
    {
     "data": {
      "image/png": "[encoded data removed]",
      "text/plain": [
       "<Figure size 1200x600 with 2 Axes>"
      ]
     },
     "metadata": {},
     "output_type": "display_data"
    }
   ],
   "source": [
    "plt.figure(figsize=(12,6))\n",
    "plt.subplot(1,2,1)\n",
    "plt.title(\"Affect of ratings on mode of order\",fontsize=10)\n",
    "sns.boxplot(x='online_order',y='ratings',data=df)\n",
    "\n",
    "\n",
    "plt.subplot(1,2,2)\n",
    "plt.title(\"Affect of cost on mode of order\",fontsize=10)\n",
    "sns.boxplot(x='online_order',y='approx_cost',data=df)\n"
   ]
  },
  {
   "cell_type": "code",
   "execution_count": 37,
   "id": "03d380d6",
   "metadata": {},
   "outputs": [
    {
     "data": {
      "text/plain": [
       "Text(0, 0.5, 'Number of Resturant')"
      ]
     },
     "execution_count": 37,
     "metadata": {},
     "output_type": "execute_result"
    },
    {
     "data": {
      "text/plain": [
       "<Figure size 800x400 with 0 Axes>"
      ]
     },
     "metadata": {},
     "output_type": "display_data"
    },
    {
     "data": {
      "image/png": "[encoded data removed]",
      "text/plain": [
       "<Figure size 600x300 with 1 Axes>"
      ]
     },
     "metadata": {},
     "output_type": "display_data"
    }
   ],
   "source": [
    "plt.figure(figsize=(8,4))\n",
    "df.groupby('location')['name'].unique()\n",
    "restaurant=[] \n",
    "location=[]\n",
    "for key,location_df in df.groupby('location'):\n",
    "    location.append(key)\n",
    "    restaurant.append(len(location_df['name'].unique()))\n",
    "    \n",
    "df_total=pd.DataFrame(zip(location,restaurant)) #creating data frame\n",
    "df_total.columns=['location','restaurant']\n",
    "df_total.set_index('location',inplace=True)\n",
    "# df_total.sort_values(by='restaurant').tail(10)\n",
    "\n",
    "\n",
    "df_total.sort_values(by='restaurant', ascending=False).head(10).plot.bar(figsize=(6,3))\n",
    "plt.title(\"10 Most dense location for restaurant in Bangaluru on Zomato\",size=10,pad=10)\n",
    "plt.xlabel(\"Location\",size=10)\n",
    "plt.ylabel(\"Number of Resturant\",size=10)"
   ]
  },
  {
   "cell_type": "code",
   "execution_count": 38,
   "id": "f716f0cc",
   "metadata": {},
   "outputs": [
    {
     "data": {
      "image/png": "[encoded data removed]",
      "text/plain": [
       "<Figure size 640x480 with 1 Axes>"
      ]
     },
     "metadata": {},
     "output_type": "display_data"
    }
   ],
   "source": [
    "plt.subplot(1,3,3)\n",
    "x=df['book_table'].value_counts()\n",
    "labels=['booked','not booked']\n",
    "plt.title(\"Restuarants table booking\", fontsize=14);\n",
    "plt.pie(x,explode=[0.0,0.1],autopct='%1.1f%%', labels=labels)\n",
    "\n",
    "plt.tight_layout()"
   ]
  },
  {
   "cell_type": "code",
   "execution_count": 44,
   "id": "78d360fd",
   "metadata": {
    "scrolled": true
   },
   "outputs": [
    {
     "data": {
      "text/plain": [
       "Text(0.5, 1.0, 'rating vs cost')"
      ]
     },
     "execution_count": 44,
     "metadata": {},
     "output_type": "execute_result"
    },
    {
     "data": {
      "image/png": "[encoded data removed]",
      "text/plain": [
       "<Figure size 600x300 with 1 Axes>"
      ]
     },
     "metadata": {},
     "output_type": "display_data"
    }
   ],
   "source": [
    "plt.figure(figsize=(6,3))\n",
    "sns.scatterplot(x=\"approx_cost\",y=\"ratings\",hue='approx_cost',data=df)\n",
    "plt.xlabel(\"approximate cost\")\n",
    "plt.ylabel(\"aggregate rating\")\n",
    "plt.title('rating vs cost')"
   ]
  },
  {
   "cell_type": "code",
   "execution_count": 46,
   "id": "573d0021",
   "metadata": {},
   "outputs": [
    {
     "data": {
      "text/plain": [
       "<Axes: xlabel='book_table', ylabel='count'>"
      ]
     },
     "execution_count": 46,
     "metadata": {},
     "output_type": "execute_result"
    },
    {
     "data": {
      "image/png": "[encoded data removed]",
      "text/plain": [
       "<Figure size 640x480 with 2 Axes>"
      ]
     },
     "metadata": {},
     "output_type": "display_data"
    }
   ],
   "source": [
    "fig=plt.figure()\n",
    "fig.suptitle(\"Restaurants delivering & table booking \",fontsize=15)\n",
    "plt.subplot(1,2,1)\n",
    "sns.countplot(x=df['online_order'])\n",
    "\n",
    "plt.subplot(1,2,2)\n",
    "sns.countplot(x=df['book_table'])"
   ]
  },
  {
   "cell_type": "code",
   "execution_count": 64,
   "id": "c6c99515",
   "metadata": {},
   "outputs": [
    {
     "data": {
      "text/plain": [
       "Text(0.5, 0, 'Number of outlets')"
      ]
     },
     "execution_count": 64,
     "metadata": {},
     "output_type": "execute_result"
    },
    {
     "data": {
      "image/png": "[encoded data removed]",
      "text/plain": [
       "<Figure size 800x400 with 1 Axes>"
      ]
     },
     "metadata": {},
     "output_type": "display_data"
    }
   ],
   "source": [
    "plt.figure(figsize=(8,4))\n",
    "chains=df['cuisines'].value_counts()[:10]\n",
    "sns.barplot(x=chains,y=chains.index,palette='Set1')\n",
    "plt.title(\"Most famous cuisines chains in Bangalore\",size=15,pad=15)\n",
    "plt.xlabel(\"Number of outlets\",size=10)"
   ]
  },
  {
   "cell_type": "code",
   "execution_count": null,
   "id": "cda7c618",
   "metadata": {},
   "outputs": [],
   "source": []
  }
 ],
 "metadata": {
  "kernelspec": {
   "display_name": "Python 3 (ipykernel)",
   "language": "python",
   "name": "python3"
  },
  "language_info": {
   "codemirror_mode": {
    "name": "ipython",
    "version": 3
   },
   "file_extension": ".py",
   "mimetype": "text/x-python",
   "name": "python",
   "nbconvert_exporter": "python",
   "pygments_lexer": "ipython3",
   "version": "3.11.4"
  }
 },
 "nbformat": 4,
 "nbformat_minor": 5
}
